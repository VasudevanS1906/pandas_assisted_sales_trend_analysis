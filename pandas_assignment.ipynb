{
  "nbformat": 4,
  "nbformat_minor": 0,
  "metadata": {
    "colab": {
      "provenance": [],
      "authorship_tag": "ABX9TyPK9qXbV/MBUE7lSVSKChKA"
    },
    "kernelspec": {
      "name": "python3",
      "display_name": "Python 3"
    },
    "language_info": {
      "name": "python"
    }
  },
  "cells": [
    {
      "cell_type": "code",
      "source": [
        "print(\"Assignment for Data Analyst Intern @Jar \\n 1. Walmart Sales Analysis: You have been given a data set to analyse and answer the following questions: The candidate can answer the questions by using Python only. Data Set: Walmart Sales [Kindly find an attached copy in the email]\")"
      ],
      "metadata": {
        "colab": {
          "base_uri": "https://localhost:8080/"
        },
        "id": "J7gtsMNHiNCa",
        "outputId": "c445bb51-16c6-47a2-a11a-b5a5baf65f06"
      },
      "execution_count": 1,
      "outputs": [
        {
          "output_type": "stream",
          "name": "stdout",
          "text": [
            "Assignment for Data Analyst Intern @Jar \n",
            " 1. Walmart Sales Analysis: You have been given a data set to analyse and answer the following questions: The candidate can answer the questions by using Python only. Data Set: Walmart Sales [Kindly find an attached copy in the email]\n"
          ]
        }
      ]
    },
    {
      "cell_type": "code",
      "execution_count": null,
      "metadata": {
        "colab": {
          "base_uri": "https://localhost:8080/"
        },
        "id": "HP31SnJwkmd1",
        "outputId": "3f5fdc4e-04da-4511-d9f8-af613024ab0a"
      },
      "outputs": [
        {
          "output_type": "stream",
          "name": "stdout",
          "text": [
            "First few rows of data:\n",
            "    Invoice ID Branch       City Customer type  Gender  \\\n",
            "0  750-67-8428      A     Yangon        Member  Female   \n",
            "1  226-31-3081      A  Naypyitaw        Normal  Female   \n",
            "2  631-41-3108      A     Yangon        Normal    Male   \n",
            "3  123-19-1176      B     Yangon        Member    Male   \n",
            "4  373-73-7910      C     Yangon        Normal    Male   \n",
            "\n",
            "             Product line  Unit price  Quantity       Date      Time  \\\n",
            "0       Health and beauty       74.69         7   1/5/2019  13:08:00   \n",
            "1  Electronic accessories       15.28         5   3/8/2019  10:29:00   \n",
            "2      Home and lifestyle       46.33         7   3/3/2019  13:23:00   \n",
            "3       Health and beauty       58.22         8  1/27/2019  20:33:00   \n",
            "4       Sports and travel       86.31         7   2/8/2019  10:37:00   \n",
            "\n",
            "       Payment  Rating  \n",
            "0      Ewallet     9.1  \n",
            "1         Cash     9.6  \n",
            "2  Credit card     7.4  \n",
            "3      Ewallet     8.4  \n",
            "4      Ewallet     5.3  \n",
            "\n",
            "Number of rows: 1000, Number of columns: 12\n",
            "\n",
            "Column names: ['Invoice ID', 'Branch', 'City', 'Customer type', 'Gender', 'Product line', 'Unit price', 'Quantity', 'Date', 'Time', 'Payment', 'Rating']\n",
            "\n",
            "Summary statistics:\n",
            "        Unit price     Quantity      Rating\n",
            "count  1000.000000  1000.000000  1000.00000\n",
            "mean     55.672130     5.510000     6.97270\n",
            "std      26.494628     2.923431     1.71858\n",
            "min      10.080000     1.000000     4.00000\n",
            "25%      32.875000     3.000000     5.50000\n",
            "50%      55.230000     5.000000     7.00000\n",
            "75%      77.935000     8.000000     8.50000\n",
            "max      99.960000    10.000000    10.00000\n",
            "\n",
            "Unique values and their counts in the 'City' column:\n",
            "City\n",
            "Yangon       340\n",
            "Mandalay     332\n",
            "Naypyitaw    328\n",
            "Name: count, dtype: int64\n",
            "\n",
            "Unique values and their counts in the 'Branch' column:\n",
            "Branch\n",
            "A    343\n",
            "B    340\n",
            "C    317\n",
            "Name: count, dtype: int64\n"
          ]
        }
      ],
      "source": [
        "import pandas as pd\n",
        "\n",
        "# Load excel file\n",
        "data = pd.read_excel('/content/Walmart Sales.xlsx')\n",
        "\n",
        "# Print the first few rows of the data\n",
        "print(\"First few rows of data:\")\n",
        "print(data.head())\n",
        "\n",
        "# Get the number of rows and columns\n",
        "num_rows, num_cols = data.shape\n",
        "print(f\"\\nNumber of rows: {num_rows}, Number of columns: {num_cols}\")\n",
        "\n",
        "# Get the column names\n",
        "column_names = list(data.columns)\n",
        "print(f\"\\nColumn names: {column_names}\")\n",
        "\n",
        "# Get summary statistics\n",
        "print(\"\\nSummary statistics:\")\n",
        "print(data.describe())\n",
        "\n",
        "# Get the unique values and their counts for the 'City' column\n",
        "city_counts = data['City'].value_counts()\n",
        "branch_counts = data['Branch'].value_counts()\n",
        "\n",
        "# Print the results\n",
        "print(\"\\nUnique values and their counts in the 'City' column:\")\n",
        "print(city_counts)\n",
        "print(\"\\nUnique values and their counts in the 'Branch' column:\")\n",
        "print(branch_counts)\n"
      ]
    },
    {
      "cell_type": "code",
      "source": [
        "print(\"A. Analyze the performance of sales and revenue at the city and branch level ( 5 marks)\")"
      ],
      "metadata": {
        "colab": {
          "base_uri": "https://localhost:8080/"
        },
        "id": "vIsl8c64ikU3",
        "outputId": "f0fe3b94-b795-4c39-dcb6-03d1fbb0bc0a"
      },
      "execution_count": 2,
      "outputs": [
        {
          "output_type": "stream",
          "name": "stdout",
          "text": [
            "A. Analyze the performance of sales and revenue at the city and branch level ( 5 marks)\n"
          ]
        }
      ]
    },
    {
      "cell_type": "code",
      "source": [
        "# Calculate the revenue for each row\n",
        "data['Revenue'] = data['Quantity'] * data['Unit price']\n",
        "\n",
        "# City level\n",
        "city_revenue = data.groupby('City')['Revenue'].sum()\n",
        "print(\"\\nSales and Revenue at the City Level:\")\n",
        "print(city_revenue)\n",
        "\n",
        "# Citywise branch level\n",
        "branch_citywise_revenue = data.groupby(['City', 'Branch'])['Revenue'].sum()\n",
        "print(\"\\nSales and Revenue at the Citywise Branch Level:\")\n",
        "print(branch_citywise_revenue)\n",
        "\n",
        "# Branch level\n",
        "branch_revenue = data.groupby(['Branch'])['Revenue'].sum()\n",
        "print(\"\\nSales and Revenue at the Branch Level:\")\n",
        "print(branch_revenue)"
      ],
      "metadata": {
        "colab": {
          "base_uri": "https://localhost:8080/"
        },
        "id": "SNJiA6xVqXtf",
        "outputId": "3e7640a0-ff69-4185-ee7f-dd645b50d3d5"
      },
      "execution_count": null,
      "outputs": [
        {
          "output_type": "stream",
          "name": "stdout",
          "text": [
            "\n",
            "Sales and Revenue at the City Level:\n",
            "City\n",
            "Mandalay     101140.64\n",
            "Naypyitaw    105303.53\n",
            "Yangon       101143.21\n",
            "Name: Revenue, dtype: float64\n",
            "\n",
            "Sales and Revenue at the Citywise Branch Level:\n",
            "City       Branch\n",
            "Mandalay   A         34130.09\n",
            "           B         37215.93\n",
            "           C         29794.62\n",
            "Naypyitaw  A         35985.64\n",
            "           B         35157.75\n",
            "           C         34160.14\n",
            "Yangon     A         33647.27\n",
            "           B         35193.51\n",
            "           C         32302.43\n",
            "Name: Revenue, dtype: float64\n",
            "\n",
            "Sales and Revenue at the Branch Level:\n",
            "Branch\n",
            "A    103763.00\n",
            "B    107567.19\n",
            "C     96257.19\n",
            "Name: Revenue, dtype: float64\n"
          ]
        }
      ]
    },
    {
      "cell_type": "code",
      "source": [
        "print(\"B. What is the average price of an item sold at each branch of the city (10 marks) \")"
      ],
      "metadata": {
        "colab": {
          "base_uri": "https://localhost:8080/"
        },
        "id": "m2tQVAhyirQe",
        "outputId": "9e1c2280-5ec4-44c5-b599-a8a5121f5974"
      },
      "execution_count": 3,
      "outputs": [
        {
          "output_type": "stream",
          "name": "stdout",
          "text": [
            "B. What is the average price of an item sold at each branch of the city (10 marks) \n"
          ]
        }
      ]
    },
    {
      "cell_type": "code",
      "source": [
        "# Calculate the average price of an item sold at each branch of the city\n",
        "avg_price_branch = data.groupby(['City', 'Branch'])['Unit price'].mean()\n",
        "print(\"\\nAverage Price of an Item at Each Branch:\")\n",
        "print(avg_price_branch)"
      ],
      "metadata": {
        "colab": {
          "base_uri": "https://localhost:8080/"
        },
        "id": "816hsLSgt7zN",
        "outputId": "07997d8c-f32a-403f-b670-27005c513b36"
      },
      "execution_count": null,
      "outputs": [
        {
          "output_type": "stream",
          "name": "stdout",
          "text": [
            "\n",
            "Average Price of an Item at Each Branch:\n",
            "City       Branch\n",
            "Mandalay   A         53.353866\n",
            "           B         56.133305\n",
            "           C         57.958316\n",
            "Naypyitaw  A         54.123182\n",
            "           B         57.785688\n",
            "           C         57.941009\n",
            "Yangon     A         55.639298\n",
            "           B         56.011062\n",
            "           C         52.684602\n",
            "Name: Unit price, dtype: float64\n"
          ]
        }
      ]
    },
    {
      "cell_type": "code",
      "source": [
        "print(\"C. Analyze the performance of sales and revenue, Month over Month across the Product line, Gender, and Payment Method, and identify the focus areas to get better sales for April 2019. (15 marks)\")"
      ],
      "metadata": {
        "colab": {
          "base_uri": "https://localhost:8080/"
        },
        "id": "_23RSuclixpM",
        "outputId": "265fb718-94dc-4773-a61f-9d804c561ccb"
      },
      "execution_count": 4,
      "outputs": [
        {
          "output_type": "stream",
          "name": "stdout",
          "text": [
            "C. Analyze the performance of sales and revenue, Month over Month across the Product line, Gender, and Payment Method, and identify the focus areas to get better sales for April 2019. (15 marks)\n"
          ]
        }
      ]
    },
    {
      "cell_type": "code",
      "source": [
        "\n",
        "data['Date'] = pd.to_datetime(data['Date'])\n",
        "\n",
        "# Group data by month, product line, gender, and payment method\n",
        "monthly_sales = data.groupby([pd.Grouper(key='Date', freq='M'), 'Product line', 'Gender', 'Payment'])['Revenue'].sum().unstack()\n",
        "\n",
        "print(\"\\nMonthly Sales by Product Line, Gender, and Payment Method:\")\n",
        "print(monthly_sales)\n",
        "\n",
        "last_three_months = monthly_sales.loc['2019-01':'2019-03']\n",
        "\n",
        "# Get the unique product lines\n",
        "product_lines = data['Product line'].unique()\n",
        "print(product_lines)\n"
      ],
      "metadata": {
        "colab": {
          "base_uri": "https://localhost:8080/"
        },
        "id": "XimxT1sst_8E",
        "outputId": "7a48fc16-5f57-4f3d-d09e-e0e556423fa9"
      },
      "execution_count": null,
      "outputs": [
        {
          "output_type": "stream",
          "name": "stdout",
          "text": [
            "\n",
            "Monthly Sales by Product Line, Gender, and Payment Method:\n",
            "Payment                                      Cash  Credit card  Ewallet\n",
            "Date       Product line           Gender                               \n",
            "2019-01-31 Electronic accessories Female  2731.86      3045.42  1576.48\n",
            "                                  Male    3380.29      2248.65  4951.86\n",
            "           Fashion accessories    Female  3845.24      2535.52  4475.81\n",
            "                                  Male    1459.32      3210.61  2897.42\n",
            "           Food and beverages     Female  5197.05      3419.77  2845.51\n",
            "                                  Male    1927.02      3797.24  1452.01\n",
            "           Health and beauty      Female   878.27      1774.40  2471.17\n",
            "                                  Male    3732.94      3712.44  3033.80\n",
            "           Home and lifestyle     Female  3618.80      4388.16  2698.07\n",
            "                                  Male    3396.24      1131.21  4286.32\n",
            "           Sports and travel      Female  5206.46      3570.03  2044.82\n",
            "                                  Male    4407.54      3591.86  1814.55\n",
            "2019-02-28 Electronic accessories Female  5189.16      2542.08  2395.43\n",
            "                                  Male    1590.25      3145.49  1673.69\n",
            "           Fashion accessories    Female  3594.98      3043.29  4155.27\n",
            "                                  Male    2694.90      2510.46  2105.73\n",
            "           Food and beverages     Female  3417.24      4499.38  2814.74\n",
            "                                  Male    2374.27      3377.46  2564.87\n",
            "           Health and beauty      Female  4218.83      1792.37  1344.95\n",
            "                                  Male    1406.58      2438.87  2705.31\n",
            "           Home and lifestyle     Female  2424.18      2369.27  1520.99\n",
            "                                  Male    2656.40       839.81  2031.62\n",
            "           Sports and travel      Female  2449.13      1842.21  4039.41\n",
            "                                  Male    2028.21      1466.00  1327.05\n",
            "2019-03-31 Electronic accessories Female  2759.66      3052.90  2518.46\n",
            "                                  Male    4091.62       658.81  4197.92\n",
            "           Fashion accessories    Female  1445.19      3578.36  2314.34\n",
            "                                  Male    3735.41      1631.35  2486.70\n",
            "           Food and beverages     Female  3601.07      2566.32  3230.27\n",
            "                                  Male    1779.42      1611.44  2996.20\n",
            "           Health and beauty      Female  1555.04      1767.17  1874.93\n",
            "                                  Male    4578.92      3723.77  3841.42\n",
            "           Home and lifestyle     Female  2748.51      2300.39  6538.18\n",
            "                                  Male    2859.68      2288.37  3200.86\n",
            "           Sports and travel      Female  1799.53      2863.86  3398.57\n",
            "                                  Male    2084.19      3633.90  4930.61\n",
            "['Health and beauty' 'Electronic accessories' 'Home and lifestyle'\n",
            " 'Sports and travel' 'Food and beverages' 'Fashion accessories']\n"
          ]
        }
      ]
    },
    {
      "cell_type": "code",
      "source": [
        "print(\"The focus areas for April 2019 are identified as :\\n Electronic accessories Female Cash \\n Electronic accessories Male Credit Card \\n Fashion accessories Female Cash \\n Fashion accessories Female Ewallet \\n Food and beverages Female Credit card \\n Food and beverages Male Cash\\n Health and beauty Female Cash\\n Health and beauty Female Credit card\\n Home and lifestyle Credit card\\n \")"
      ],
      "metadata": {
        "colab": {
          "base_uri": "https://localhost:8080/"
        },
        "id": "PzNn7GMsAx8D",
        "outputId": "c53b3baf-940d-45ec-8561-a3c109fbe998"
      },
      "execution_count": null,
      "outputs": [
        {
          "output_type": "stream",
          "name": "stdout",
          "text": [
            "The focus areas for April 2019 are identified as :\n",
            " Electronic accessories Female Cash \n",
            " Electronic accessories Male Credit Card \n",
            " Fashion accessories Female Cash \n",
            " Fashion accessories Female Ewallet \n",
            " Food and beverages Female Credit card \n",
            " Food and beverages Male Cash\n",
            " Health and beauty Female Cash\n",
            " Health and beauty Female Credit card\n",
            " Home and lifestyle Credit card\n",
            " \n"
          ]
        }
      ]
    },
    {
      "cell_type": "code",
      "source": [
        "print(\"2. App Exploration: (5 marks) Explore the features and user experience of the Jar app. Identify two aspects that you think could be significantly improved and explain your reasoning behind each suggestion.\")"
      ],
      "metadata": {
        "colab": {
          "base_uri": "https://localhost:8080/"
        },
        "id": "ASC8CcINi3PO",
        "outputId": "3bec68b7-d32b-4e71-e517-a43b7934d9d3"
      },
      "execution_count": 6,
      "outputs": [
        {
          "output_type": "stream",
          "name": "stdout",
          "text": [
            "2. App Exploration: (5 marks) Explore the features and user experience of the Jar app. Identify two aspects that you think could be significantly improved and explain your reasoning behind each suggestion.\n"
          ]
        }
      ]
    },
    {
      "cell_type": "code",
      "source": [
        "print(\"\\nCustomizable budgeting templates: The app could provide customizable budgeting templates that cater to different user profiles, such as students, working professionals, or retirees. This would help users set realistic financial goals and track their progress more effectively.\\nEducational resources: The app could provide educational resources, such as blog posts, videos or webinars to help users develop healthy savings and investment habits and make informed financial decisions.\")"
      ],
      "metadata": {
        "colab": {
          "base_uri": "https://localhost:8080/"
        },
        "id": "jJ2kQSJejEK0",
        "outputId": "8635914e-2ba5-427a-a137-d489bbdf17c9"
      },
      "execution_count": 10,
      "outputs": [
        {
          "output_type": "stream",
          "name": "stdout",
          "text": [
            "\n",
            "Customizable budgeting templates: The app could provide customizable budgeting templates that cater to different user profiles, such as students, working professionals, or retirees. This would help users set realistic financial goals and track their progress more effectively.\n",
            "Educational resources: The app could provide educational resources, such as blog posts, videos or webinars to help users develop healthy savings and investment habits and make informed financial decisions.\n"
          ]
        }
      ]
    },
    {
      "cell_type": "code",
      "source": [
        "print(\" 3. Product Optimisation: (5 marks) The Jar app has an engagement feature called 'Spin to Win'. Right now, if 100 people come to the app each day, only 23 of them try out this spinning game.\\n But, we know that people who spin are more likely to retain on the app and do transactions. Now, we want to get more people to play the game. So, the question is, how can we make \\n sure that at least 50 people out of every 100 who visit the app each day will play 'Spin to Win'? What can we do to get more people interested in spinning the wheel? Share all your \\n answers in a doc format and give the respective permissions to access the document.\")"
      ],
      "metadata": {
        "colab": {
          "base_uri": "https://localhost:8080/"
        },
        "id": "h07q9iF2jHr9",
        "outputId": "1e124fcb-3714-4ad4-da49-dbf63adeef11"
      },
      "execution_count": 14,
      "outputs": [
        {
          "output_type": "stream",
          "name": "stdout",
          "text": [
            " 3. Product Optimisation: (5 marks) The Jar app has an engagement feature called 'Spin to Win'. Right now, if 100 people come to the app each day, only 23 of them try out this spinning game.\n",
            " But, we know that people who spin are more likely to retain on the app and do transactions. Now, we want to get more people to play the game. So, the question is, how can we make \n",
            " sure that at least 50 people out of every 100 who visit the app each day will play 'Spin to Win'? What can we do to get more people interested in spinning the wheel? Share all your \n",
            " answers in a doc format and give the respective permissions to access the document.\n"
          ]
        }
      ]
    },
    {
      "cell_type": "code",
      "source": [
        "print(\"Daily Reminders: Send daily reminders to users to play 'Spin to Win' via push notifications or in-app messages. This will help keep the feature top of mind and encourage users to participate.\\nLeaderboard: Create a leaderboard that shows the top spinners of the day/week/month. This will create a sense of competition and encourage users to spin more to climb the ranks.\\nGamification: Introduce gamification elements such as levels, badges, and rewards to make the experience more engaging and fun.\")"
      ],
      "metadata": {
        "colab": {
          "base_uri": "https://localhost:8080/"
        },
        "id": "ih-9ysXwjIcE",
        "outputId": "11397f88-0194-472d-df57-b5a6bd87d475"
      },
      "execution_count": 11,
      "outputs": [
        {
          "output_type": "stream",
          "name": "stdout",
          "text": [
            "Daily Reminders: Send daily reminders to users to play 'Spin to Win' via push notifications or in-app messages. This will help keep the feature top of mind and encourage users to participate.\n",
            "Leaderboard: Create a leaderboard that shows the top spinners of the day/week/month. This will create a sense of competition and encourage users to spin more to climb the ranks.\n",
            "Gamification: Introduce gamification elements such as levels, badges, and rewards to make the experience more engaging and fun.\n"
          ]
        }
      ]
    }
  ]
}